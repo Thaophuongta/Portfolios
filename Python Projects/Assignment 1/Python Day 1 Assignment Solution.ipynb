{
 "cells": [
  {
   "cell_type": "markdown",
   "id": "2b43d35f",
   "metadata": {},
   "source": [
    "### Python Day 1 Assignment:"
   ]
  },
  {
   "cell_type": "markdown",
   "id": "197226b3",
   "metadata": {},
   "source": [
    "<strong>Task 1 : </strong> Create variables for the following information:<br>\n",
    "• Your full name<br>\n",
    "• Your age<br>\n",
    "• Your favourite number (use an integer)<br>\n",
    "<strong>Print each variable with an appropriate label.</strong>\n"
   ]
  },
  {
   "cell_type": "code",
   "execution_count": 1,
   "id": "6bdec2a7",
   "metadata": {},
   "outputs": [
    {
     "name": "stdout",
     "output_type": "stream",
     "text": [
      "Full Name: Your Full Name\n",
      "Age: 25\n",
      "Favorite Number: 7\n"
     ]
    }
   ],
   "source": [
    "# Create variables\n",
    "full_name = \"Your Full Name\"\n",
    "age = 25  # Replace with your actual age\n",
    "favorite_number = 7  # Replace with your actual favorite number\n",
    "\n",
    "# Print variables with labels\n",
    "print(\"Full Name:\", full_name)\n",
    "print(\"Age:\", age)\n",
    "print(\"Favorite Number:\", favorite_number)\n"
   ]
  },
  {
   "cell_type": "markdown",
   "id": "388e4d05",
   "metadata": {},
   "source": [
    "<strong>Task 2 : </strong>Write a Python program to calculate the area of a rectangle given its\n",
    "length and width. "
   ]
  },
  {
   "cell_type": "code",
   "execution_count": 2,
   "id": "099d215b",
   "metadata": {},
   "outputs": [
    {
     "name": "stdout",
     "output_type": "stream",
     "text": [
      "Enter the length of the rectangle: 10\n",
      "Enter the width of the rectangle: 5\n",
      "The area of the rectangle with length 10.0 and width 5.0 is: 50.0\n"
     ]
    }
   ],
   "source": [
    "# Input: Length and Width of the rectangle\n",
    "length = float(input(\"Enter the length of the rectangle: \"))\n",
    "width = float(input(\"Enter the width of the rectangle: \"))\n",
    "\n",
    "# Calculate the area of the rectangle\n",
    "area = length * width\n",
    "\n",
    "# Print the result\n",
    "print(f\"The area of the rectangle with length {length} and width {width} is: {area}\")\n"
   ]
  },
  {
   "cell_type": "markdown",
   "id": "f5c2b264",
   "metadata": {},
   "source": [
    "<strong>Task 3 : </strong>Write a Python program which accepts the radius of a circle from the\n",
    "user and compute the area.\n"
   ]
  },
  {
   "cell_type": "code",
   "execution_count": 3,
   "id": "23e3b241",
   "metadata": {},
   "outputs": [
    {
     "name": "stdout",
     "output_type": "stream",
     "text": [
      "Enter the radius of the circle: 4\n",
      "The area of the circle with radius 4.0 is: 50.26548245743669\n"
     ]
    }
   ],
   "source": [
    "import math\n",
    "\n",
    "# Input: Radius of the circle\n",
    "radius = float(input(\"Enter the radius of the circle: \"))\n",
    "\n",
    "# Calculate the area of the circle\n",
    "area = math.pi * radius**2\n",
    "\n",
    "# Print the result\n",
    "print(f\"The area of the circle with radius {radius} is: {area}\")\n"
   ]
  },
  {
   "cell_type": "markdown",
   "id": "0ef9c2fc",
   "metadata": {},
   "source": [
    "<strong>Task 4 : </strong>\n",
    "Convert temperature from 5 Degree Celsius to Fahrenheit.<br>\n",
    "<strong> Fromula : </strong> F=9/5×C+3\n",
    "\n",
    "(C × 9/5) + 32"
   ]
  },
  {
   "cell_type": "code",
   "execution_count": 4,
   "id": "1f86769d",
   "metadata": {},
   "outputs": [
    {
     "data": {
      "text/plain": [
       "41.0"
      ]
     },
     "execution_count": 4,
     "metadata": {},
     "output_type": "execute_result"
    }
   ],
   "source": [
    "\n",
    "celcius=5\n",
    "# celcius= float(input(\"Enter Celsius degree\"))\n",
    "fahrenheit = (5 * 9/5) + 32\n",
    "fahrenheit"
   ]
  },
  {
   "cell_type": "markdown",
   "id": "a8951000",
   "metadata": {},
   "source": [
    "<strong>Task 5 : </strong>\n",
    "Implement a program that converts a given number from a user in\n",
    "minutes into hours and minutes."
   ]
  },
  {
   "cell_type": "code",
   "execution_count": 25,
   "id": "e7ea91ec",
   "metadata": {},
   "outputs": [],
   "source": [
    "hours=120//60\n",
    "minutes=120%60"
   ]
  },
  {
   "cell_type": "code",
   "execution_count": 5,
   "id": "5bbe6e26",
   "metadata": {},
   "outputs": [
    {
     "name": "stdout",
     "output_type": "stream",
     "text": [
      "Enter number120\n",
      "Hours:  2.0  Minutes :  0.0\n"
     ]
    }
   ],
   "source": [
    "\n",
    "num1=float(input(\"Enter number\"))\n",
    "hours=num1//60\n",
    "minutes=num1%60\n",
    "# Convert number to hour\n",
    "\n",
    "sum = num1/ 60\n",
    "\n",
    "# will print the result on screen\n",
    "\n",
    "print(\"Hours: \"  , hours , \" Minutes : \" , minutes)"
   ]
  },
  {
   "cell_type": "code",
   "execution_count": 6,
   "id": "d933c822",
   "metadata": {},
   "outputs": [
    {
     "name": "stdout",
     "output_type": "stream",
     "text": [
      "Enter the number of minutes: 115\n",
      "115 minutes is equal to 1 hours and 55 minutes.\n"
     ]
    }
   ],
   "source": [
    "# Input: Number of minutes from the user\n",
    "minutes = int(input(\"Enter the number of minutes: \"))\n",
    "\n",
    "# Calculate hours and remaining minutes\n",
    "hours = minutes // 60\n",
    "remaining_minutes = minutes % 60\n",
    "\n",
    "# Print the result\n",
    "print(f\"{minutes} minutes is equal to {hours} hours and {remaining_minutes} minutes.\")\n"
   ]
  },
  {
   "cell_type": "markdown",
   "id": "463bee25",
   "metadata": {},
   "source": [
    "<strong>Task 6 : </strong>\n",
    "Write a python code to convert values entered by user from mile to km\n",
    "or from km to mile."
   ]
  },
  {
   "cell_type": "code",
   "execution_count": 7,
   "id": "dcb59fa8",
   "metadata": {},
   "outputs": [
    {
     "name": "stdout",
     "output_type": "stream",
     "text": [
      "Enter the value to convert: 10\n",
      "Enter the unit (mile or km): mile\n",
      "10.0 miles is equal to 16.09 kilometers.\n"
     ]
    }
   ],
   "source": [
    "# Input: Value and unit from the user\n",
    "value = float(input(\"Enter the value to convert: \"))\n",
    "unit = input(\"Enter the unit (mile or km): \").lower()\n",
    "\n",
    "# Perform the conversion based on user input\n",
    "if unit == \"mile\":\n",
    "    result = value * 1.60934\n",
    "    print(f\"{value} miles is equal to {result:.2f} kilometers.\")\n",
    "elif unit == \"km\":\n",
    "    result = value / 1.60934\n",
    "    print(f\"{value} kilometers is equal to {result:.2f} miles.\")\n",
    "else:\n",
    "    print(\"Invalid unit. Please enter 'mile' or 'km'.\")\n"
   ]
  },
  {
   "cell_type": "markdown",
   "id": "f218f617",
   "metadata": {},
   "source": [
    "<strong>Task 7 : </strong>\n",
    "Request the user to input a distance and the time taken to cover that\n",
    "distance. Calculate and print the speed using the formula : <br>\n",
    "<strong> Fromula : </strong>Speed = distance / time"
   ]
  },
  {
   "cell_type": "code",
   "execution_count": null,
   "id": "ae3ca28f",
   "metadata": {},
   "outputs": [],
   "source": [
    "speed = distance/time"
   ]
  },
  {
   "cell_type": "code",
   "execution_count": 28,
   "id": "9e485e39",
   "metadata": {},
   "outputs": [
    {
     "name": "stdout",
     "output_type": "stream",
     "text": [
      "Enter distance traveled : 120\n",
      "Enter time taken : 10\n"
     ]
    }
   ],
   "source": [
    "# [16:24] Petunia M'Suka\n",
    "distance = float(input(\"Enter distance traveled : \"))\n",
    "time=int(input(\"Enter time taken : \"))\n",
    "speed = distance/time\n",
    "print(speed)"
   ]
  },
  {
   "cell_type": "code",
   "execution_count": 29,
   "id": "3fa66282",
   "metadata": {},
   "outputs": [],
   "source": [
    "speed = distance/time"
   ]
  },
  {
   "cell_type": "code",
   "execution_count": 30,
   "id": "d5b24411",
   "metadata": {},
   "outputs": [
    {
     "name": "stdout",
     "output_type": "stream",
     "text": [
      "12.0\n"
     ]
    }
   ],
   "source": [
    "print(speed)"
   ]
  },
  {
   "cell_type": "markdown",
   "id": "a84cfb64",
   "metadata": {},
   "source": [
    "<strong>Task 8 : </strong>\n",
    "Ask the user to input an amount in one currency. Implement a simple\n",
    "currency converter to convert the amount to another currency. You may\n",
    "choose specific currencies."
   ]
  },
  {
   "cell_type": "code",
   "execution_count": 13,
   "id": "b85a29b9",
   "metadata": {},
   "outputs": [
    {
     "name": "stdout",
     "output_type": "stream",
     "text": [
      "Enter the amount in USD: 10\n",
      "10.0 USD is equal to 8.50 EUR.\n"
     ]
    }
   ],
   "source": [
    "# Get the amount in USD from the user\n",
    "usd_amount = float(input(\"Enter the amount in USD: \"))\n",
    "\n",
    "# Define the exchange rate (USD to EUR)\n",
    "exchange_rate_usd_to_eur = 0.85\n",
    "\n",
    "# Convert the amount to EUR\n",
    "eur_amount = usd_amount * exchange_rate_usd_to_eur\n",
    "\n",
    "# Print the result\n",
    "print(f\"{usd_amount} USD is equal to {eur_amount:.2f} EUR.\")\n"
   ]
  },
  {
   "cell_type": "markdown",
   "id": "f0b390ac",
   "metadata": {},
   "source": [
    "<strong>Task 9 : </strong>\n",
    "Write a program that calculates the compound interest using the\n",
    "formula:\n"
   ]
  },
  {
   "cell_type": "code",
   "execution_count": 18,
   "id": "e69f7e19",
   "metadata": {},
   "outputs": [],
   "source": [
    "rateByNo=0.10/5 # rate divided by , n = Number of times interest is compounded per year\n",
    "times = 5*4 # time multiplied by n = Number of times interest is compounded per year\n",
    "p = 100 # this is the amount borrowed"
   ]
  },
  {
   "cell_type": "code",
   "execution_count": 19,
   "id": "0f39480f",
   "metadata": {},
   "outputs": [
    {
     "data": {
      "text/plain": [
       "148.59473959783548"
      ]
     },
     "execution_count": 19,
     "metadata": {},
     "output_type": "execute_result"
    }
   ],
   "source": [
    "𝐴 = p*(1 + rateByNo ) ** times\n",
    "A"
   ]
  },
  {
   "cell_type": "code",
   "execution_count": 20,
   "id": "8cb1419d",
   "metadata": {},
   "outputs": [
    {
     "data": {
      "text/plain": [
       "48.594739597835485"
      ]
     },
     "execution_count": 20,
     "metadata": {},
     "output_type": "execute_result"
    }
   ],
   "source": [
    "interestCharged = A - p\n",
    "interestCharged"
   ]
  },
  {
   "cell_type": "markdown",
   "id": "5562f398",
   "metadata": {},
   "source": [
    "<strong>Task 10 : </strong>\n",
    "Prompt the user to enter an integer. Determine whether the entered\n",
    "number is odd or even and display the result"
   ]
  },
  {
   "cell_type": "code",
   "execution_count": 37,
   "id": "a290aff9",
   "metadata": {},
   "outputs": [
    {
     "name": "stdout",
     "output_type": "stream",
     "text": [
      "Please enter your number 53\n"
     ]
    }
   ],
   "source": [
    "num = int(input(\"Please enter your number \"))"
   ]
  },
  {
   "cell_type": "code",
   "execution_count": 42,
   "id": "12cefafe",
   "metadata": {},
   "outputs": [
    {
     "name": "stdout",
     "output_type": "stream",
     "text": [
      "this is odd\n"
     ]
    }
   ],
   "source": [
    "num = int(input(\"Please enter your number \"))\n",
    "if(num%2 == 0):\n",
    "    print(\"the number is even\")\n",
    "else:\n",
    "    print(\"this is odd\")"
   ]
  },
  {
   "cell_type": "code",
   "execution_count": 43,
   "id": "99d3a71e",
   "metadata": {},
   "outputs": [
    {
     "name": "stdout",
     "output_type": "stream",
     "text": [
      "Enter number:50\n",
      "50 is an even number.\n"
     ]
    }
   ],
   "source": [
    "# Declare value by using user's input.\n",
    " \n",
    "number = int(input(\"Enter number:\"))\n",
    "even_odd = int(number % 2)\n",
    " \n",
    "# Compare answer to 0 \n",
    " \n",
    "if even_odd == 0:\n",
    "\n",
    "    print( number , \"is an even number.\")\n",
    "else:\n",
    "\n",
    "    print( number , \"is an odd number.\")"
   ]
  },
  {
   "cell_type": "code",
   "execution_count": null,
   "id": "a4d68d51",
   "metadata": {},
   "outputs": [],
   "source": []
  },
  {
   "cell_type": "code",
   "execution_count": null,
   "id": "c64b3881",
   "metadata": {},
   "outputs": [],
   "source": []
  }
 ],
 "metadata": {
  "kernelspec": {
   "display_name": "Python 3 (ipykernel)",
   "language": "python",
   "name": "python3"
  },
  "language_info": {
   "codemirror_mode": {
    "name": "ipython",
    "version": 3
   },
   "file_extension": ".py",
   "mimetype": "text/x-python",
   "name": "python",
   "nbconvert_exporter": "python",
   "pygments_lexer": "ipython3",
   "version": "3.11.4"
  }
 },
 "nbformat": 4,
 "nbformat_minor": 5
}
