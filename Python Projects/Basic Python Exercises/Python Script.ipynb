{
 "cells": [
  {
   "cell_type": "markdown",
   "id": "369cd015",
   "metadata": {},
   "source": [
    "## Task 1: Your information"
   ]
  },
  {
   "cell_type": "code",
   "execution_count": 19,
   "id": "fb193b66",
   "metadata": {},
   "outputs": [
    {
     "name": "stdout",
     "output_type": "stream",
     "text": [
      "Enter your first name: Thao\n",
      "Enter your last name: Ta\n",
      "Enter your year of birth: 1985\n",
      "Enter your favourite number: 7\n",
      "\n",
      " Your information shown as below: \n",
      "\n",
      "Your full name is:  Thao Ta\n",
      "Your age is:  38\n",
      "Your favourite number is:  7\n"
     ]
    }
   ],
   "source": [
    "# Create variables: providing your information\n",
    "firstname = input(\"Enter your first name: \")\n",
    "lastname = input(\"Enter your last name: \")\n",
    "yob = int(input(\"Enter your year of birth: \"))\n",
    "favnumber = int(input(\"Enter your favourite number: \"))\n",
    "\n",
    "# print your information\n",
    "print(\"\\n\",\"Your information shown as below:\",\"\\n\")\n",
    "print(\"Your full name is: \", firstname,lastname)\n",
    "print(\"Your age is: \",2023-yob)\n",
    "print(\"Your favourite number is: \",favnumber)"
   ]
  },
  {
   "cell_type": "markdown",
   "id": "4c46d97c",
   "metadata": {},
   "source": [
    "## Task 2: Calculate the area of a rectangle"
   ]
  },
  {
   "cell_type": "code",
   "execution_count": 25,
   "id": "1d65a1b9",
   "metadata": {},
   "outputs": [
    {
     "name": "stdout",
     "output_type": "stream",
     "text": [
      "The rectangle length is (metre): 23\n",
      "The rectangle width is (metre): 2\n",
      "\n",
      " The rectangle area is:  46 square metre\n"
     ]
    }
   ],
   "source": [
    "# Input variables: length and width of rectangle\n",
    "length = float(input(\"The rectangle length is (metre): \"))\n",
    "width = float(input(\"The rectangle width is (metre): \"))\n",
    "\n",
    "# Calculate the area of the rectangle\n",
    "area = length * width\n",
    "\n",
    "# Display the result\n",
    "print(\"\\n\",\"The rectangle area is: \",area,\"square metre\")"
   ]
  },
  {
   "cell_type": "markdown",
   "id": "47b6a840",
   "metadata": {},
   "source": [
    "## Task 3: Write a Python program which accepts the radius of a circle from the user and compute the area"
   ]
  },
  {
   "cell_type": "code",
   "execution_count": 9,
   "id": "2e282591",
   "metadata": {},
   "outputs": [
    {
     "name": "stdout",
     "output_type": "stream",
     "text": [
      "Enter your radius (mile): 45\n",
      "\n",
      " The circle area accepted is:  6,361.74 square mile\n"
     ]
    }
   ],
   "source": [
    "# Input the radius to check if it is accepted\n",
    "ra = float(input(\"Enter your radius (mile): \"))\n",
    "             \n",
    "# Display area accepted\n",
    "print(\"\\n\",\"The circle area accepted is: \",format(3.1416*(ra**2),\",.2f\"),\"square mile\")"
   ]
  },
  {
   "cell_type": "markdown",
   "id": "53f79449",
   "metadata": {},
   "source": [
    "## Task 4:  Convert temperature from 5 Degree Celsius to Fahrenheit"
   ]
  },
  {
   "cell_type": "code",
   "execution_count": 21,
   "id": "e55efd25",
   "metadata": {},
   "outputs": [
    {
     "name": "stdout",
     "output_type": "stream",
     "text": [
      "5 Degree Celsius is equal to:  41.0 Degree Fahrenheit\n"
     ]
    }
   ],
   "source": [
    "c = 5\n",
    "print(\"5 Degree Celsius is equal to: \",((9/5) * c) + 32,\"Degree Fahrenheit\")"
   ]
  },
  {
   "cell_type": "markdown",
   "id": "45c30abc",
   "metadata": {},
   "source": [
    "## Task 5: Converts a given number from a user of minutes into hours and minutes"
   ]
  },
  {
   "cell_type": "code",
   "execution_count": 24,
   "id": "d01e6413",
   "metadata": {},
   "outputs": [
    {
     "name": "stdout",
     "output_type": "stream",
     "text": [
      "Enter total minutes spent: 92\n",
      "\n",
      " Total time is:  1 hours 32 minutes\n"
     ]
    }
   ],
   "source": [
    "# Input the number need to be converts\n",
    "a = int(input(\"Enter total minutes spent: \"))\n",
    "\n",
    "# Display result as hours and minutes\n",
    "print(\"\\n\",\"Total time is: \",a//60,\"hours\",a%60,\"minutes\")"
   ]
  },
  {
   "cell_type": "markdown",
   "id": "a53d509c",
   "metadata": {},
   "source": [
    "## Task 6: Convert values entered by user from mile to km or from km to miles"
   ]
  },
  {
   "cell_type": "code",
   "execution_count": 87,
   "id": "b891f6c1",
   "metadata": {},
   "outputs": [
    {
     "name": "stdout",
     "output_type": "stream",
     "text": [
      "Convert from mile to km (Type Y) and km to miles (Type N): Y\n",
      "Enter amount: 5.2\n",
      "\n",
      " 5.2 miles is equal to:  7.80 km\n"
     ]
    }
   ],
   "source": [
    "# Convert from mile to km or km to mile\n",
    "method = input(\"Convert from mile to km (Type Y) and km to miles (Type N): \")\n",
    "amount = float(input(\"Enter amount: \"))\n",
    "\n",
    "# Display converting result\n",
    "if method == \"Y\" :\n",
    " print(\"\\n\",amount,\"miles is equal to: \",format(amount*1.5,\".2f\"),\"km\")\n",
    "else :\n",
    " print(\"\\n\",amount,\"km is equal to: \",format(amount/1.5,\".2f\"),\"miles\")\n"
   ]
  },
  {
   "cell_type": "markdown",
   "id": "41ce4e5e",
   "metadata": {},
   "source": [
    "## Task 7:  Request the user to input a distance and the time taken to cover that distance. Calculate and print the speed using the formula"
   ]
  },
  {
   "cell_type": "code",
   "execution_count": 29,
   "id": "abdb95d5",
   "metadata": {},
   "outputs": [
    {
     "name": "stdout",
     "output_type": "stream",
     "text": [
      "Enter the distance in mile: 225\n",
      "Enter the time in hour: 3\n",
      "\n",
      " The speed is:  75.0 mile/hour\n"
     ]
    }
   ],
   "source": [
    "# Input distance and time taken\n",
    "d = float(input(\"Enter the distance in mile: \"))\n",
    "t = int(input(\"Enter the time in hour: \"))\n",
    "\n",
    "# Calculate the speed and print result\n",
    "print(\"\\n\",\"The speed is: \",d/t,\"mile/hour\")"
   ]
  },
  {
   "cell_type": "markdown",
   "id": "1de693a6",
   "metadata": {},
   "source": [
    "## Task 8: Ask the user to input an amount in one currency. Implement a simple currency converter to convert the amount to another currency. You may choose specific currencies"
   ]
  },
  {
   "cell_type": "code",
   "execution_count": 8,
   "id": "52b315ea",
   "metadata": {},
   "outputs": [
    {
     "name": "stdout",
     "output_type": "stream",
     "text": [
      "Enter the amount in Sterling (GBP): 78\n",
      "\n",
      " 78.0 pound sterling is equal to:  2,340,000.00 VND\n"
     ]
    }
   ],
   "source": [
    "# Input the amount in GBP (1GBP = 30,000VND)\n",
    "m= float(input(\"Enter the amount in Sterling (GBP): \"))\n",
    "\n",
    "# Convert amount in GBP to VND (Vietnamese currency)\n",
    "print(\"\\n\",m,\"pound sterling is equal to: \",format(m*30000,\",.2f\"),\"VND\")"
   ]
  },
  {
   "cell_type": "markdown",
   "id": "caff13e6",
   "metadata": {},
   "source": [
    "## Task 9:  Write a program that calculates the compound interest using the formula"
   ]
  },
  {
   "cell_type": "code",
   "execution_count": 98,
   "id": "731edb08",
   "metadata": {},
   "outputs": [
    {
     "name": "stdout",
     "output_type": "stream",
     "text": [
      "Enter the principle amount (Initial amount put to saving): 500\n",
      "Enter the annual interest rate: 0.1\n",
      "Number of compounded times per year: 5\n",
      "Enter duration (number of years): 10\n",
      "\n",
      " The total compounded interest is:  845.79\n"
     ]
    }
   ],
   "source": [
    "# Input values\n",
    "p = float(input(\"Enter the principle amount (Initial amount put to saving): \"))\n",
    "r = float(input(\"Enter the annual interest rate: \"))\n",
    "n = int(input(\"Number of compounded times per year: \"))\n",
    "t = int(input(\"Enter duration (number of years): \"))\n",
    "\n",
    "# Display the compounded interest\n",
    "print(\"\\n\",\"The total compounded interest is: \",format(p*((1+r/n)**(n*t))-p,\".2f\"))"
   ]
  },
  {
   "cell_type": "markdown",
   "id": "35bbc9cd",
   "metadata": {},
   "source": [
    "## Task 10: Prompt the user to enter an integer. Determine whether the entered number is odd or even and display the result"
   ]
  },
  {
   "cell_type": "code",
   "execution_count": 64,
   "id": "989281eb",
   "metadata": {
    "scrolled": true
   },
   "outputs": [
    {
     "name": "stdout",
     "output_type": "stream",
     "text": [
      "Enter a number: 3\n",
      "\n",
      " 3 is an odd number\n"
     ]
    }
   ],
   "source": [
    "# Input a number to check if it is odd or even\n",
    "a = int(input(\"Enter a number: \"))\n",
    "\n",
    "# Check if it is odd or even and display result\n",
    "b= a%2\n",
    "if b > 0 :\n",
    " print(\"\\n\",a,\"is an odd number\")\n",
    "else :\n",
    " print(\"\\n\",a,\"is an even number\")\n"
   ]
  }
 ],
 "metadata": {
  "kernelspec": {
   "display_name": "Python 3 (ipykernel)",
   "language": "python",
   "name": "python3"
  },
  "language_info": {
   "codemirror_mode": {
    "name": "ipython",
    "version": 3
   },
   "file_extension": ".py",
   "mimetype": "text/x-python",
   "name": "python",
   "nbconvert_exporter": "python",
   "pygments_lexer": "ipython3",
   "version": "3.11.5"
  }
 },
 "nbformat": 4,
 "nbformat_minor": 5
}
