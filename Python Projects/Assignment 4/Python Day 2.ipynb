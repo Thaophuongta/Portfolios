{
 "cells": [
  {
   "cell_type": "code",
   "execution_count": 20,
   "id": "0012d281",
   "metadata": {},
   "outputs": [
    {
     "name": "stdout",
     "output_type": "stream",
     "text": [
      "1\n",
      "3\n",
      "5\n",
      "7\n",
      "9\n",
      "11\n",
      "13\n",
      "15\n",
      "17\n",
      "19\n"
     ]
    }
   ],
   "source": [
    "# Task 1: print odd numbers\n",
    "\n",
    "i=1\n",
    "while i<21:\n",
    "    print(i)\n",
    "    i+=2\n",
    "   "
   ]
  },
  {
   "cell_type": "code",
   "execution_count": 21,
   "id": "415904ab",
   "metadata": {},
   "outputs": [
    {
     "name": "stdout",
     "output_type": "stream",
     "text": [
      "4\n",
      "3\n",
      "2\n",
      "0\n"
     ]
    }
   ],
   "source": [
    "# Task 2\n",
    "\n",
    "n = 3\n",
    " \n",
    "while n > 0:\n",
    "    print(n + 1)\n",
    "    n -= 1\n",
    "else:\n",
    "    print(n)"
   ]
  },
  {
   "cell_type": "code",
   "execution_count": 22,
   "id": "fa531f5c",
   "metadata": {},
   "outputs": [
    {
     "name": "stdout",
     "output_type": "stream",
     "text": [
      "2 is a prime number\n",
      "3 is a prime number\n",
      "5 is a prime number\n",
      "7 is a prime number\n",
      "11 is a prime number\n",
      "13 is a prime number\n",
      "17 is a prime number\n",
      "19 is a prime number\n"
     ]
    }
   ],
   "source": [
    "# Task 3: Find out all Prime numbers\n",
    "\n",
    "for a in range (2,20):\n",
    "    prime = True\n",
    "        \n",
    "    for i in range (2, a - 1):\n",
    "        if (a % i)== 0:\n",
    "            prime = False\n",
    "            break\n",
    "            \n",
    "    if prime:\n",
    "        print(f\"{a} is a prime number\")"
   ]
  },
  {
   "cell_type": "code",
   "execution_count": 26,
   "id": "82698b32",
   "metadata": {},
   "outputs": [
    {
     "name": "stdout",
     "output_type": "stream",
     "text": [
      "Enter a number: 3\n",
      "Fizz\n",
      "Enter different number: 5\n",
      "Buzz\n",
      "Enter different number: 15\n",
      "FizzBuzz\n",
      "Enter different number: 7\n",
      "End game, your chosen number is:  7\n"
     ]
    }
   ],
   "source": [
    "# Task 6: Fizzbuzz Game\n",
    "\n",
    "n = int(input(\"Enter a number: \"))\n",
    "while (n%3)==0 or (n%5)==0:\n",
    "    if (n%15)==0:\n",
    "        print(\"FizzBuzz\")\n",
    "    elif (n%3)==0:\n",
    "        print(\"Fizz\")\n",
    "    elif (n%5)==0:\n",
    "        print(\"Buzz\")\n",
    "    n=int(input(\"Enter different number: \"))\n",
    "print(\"End game, your chosen number is: \",n)\n"
   ]
  },
  {
   "cell_type": "code",
   "execution_count": 25,
   "id": "a2f6c0a0",
   "metadata": {},
   "outputs": [
    {
     "name": "stdout",
     "output_type": "stream",
     "text": [
      "Enter a number: 3\n",
      "3 is lower\n",
      "Enter different number: 15\n",
      "15 is higher\n",
      "Enter different number: 10\n",
      "10 is the correct answer\n"
     ]
    }
   ],
   "source": [
    "#Task 5: Guess number game\n",
    "\n",
    "n = int(input(\"Enter a number: \"))\n",
    "while n!=10:\n",
    "    if n>10:\n",
    "        print(n,\"is higher\")\n",
    "    elif n<10:\n",
    "        print(n,\"is lower\")\n",
    "    n=int(input(\"Enter different number: \"))\n",
    "print(n,\"is the correct answer\")"
   ]
  },
  {
   "cell_type": "code",
   "execution_count": 2,
   "id": "a9cbb8bf",
   "metadata": {},
   "outputs": [
    {
     "name": "stdout",
     "output_type": "stream",
     "text": [
      "How many times you want to play: 5\n",
      "Enter a number: 7\n",
      "7 is lower\n",
      "Enter different number: 9\n",
      "9 is lower\n",
      "Enter different number: 11\n",
      "11 is higher\n",
      "Enter different number: 12\n",
      "12 is higher\n",
      "Enter different number: 18\n",
      "All your answers are not correct. Game Over!\n"
     ]
    }
   ],
   "source": [
    "# Task 7: Guess number with limited times\n",
    "\n",
    "i = 10\n",
    "t = int(input(\"How many times you want to play: \"))\n",
    "n = int(input(\"Enter a number: \"))\n",
    "while n!=i and t>1:\n",
    "    if n>10:\n",
    "        print(n,\"is higher\")\n",
    "    elif n<10:\n",
    "        print(n,\"is lower\")\n",
    "    n=int(input(\"Enter different number: \"))\n",
    "    t-=1\n",
    "if n==i:\n",
    "    print(n,\"is the correct answer\")\n",
    "else:\n",
    "    print(\"All your answers are not correct. Game Over!\")"
   ]
  },
  {
   "cell_type": "code",
   "execution_count": null,
   "id": "090acba6",
   "metadata": {},
   "outputs": [],
   "source": []
  }
 ],
 "metadata": {
  "kernelspec": {
   "display_name": "Python 3 (ipykernel)",
   "language": "python",
   "name": "python3"
  },
  "language_info": {
   "codemirror_mode": {
    "name": "ipython",
    "version": 3
   },
   "file_extension": ".py",
   "mimetype": "text/x-python",
   "name": "python",
   "nbconvert_exporter": "python",
   "pygments_lexer": "ipython3",
   "version": "3.11.5"
  }
 },
 "nbformat": 4,
 "nbformat_minor": 5
}
